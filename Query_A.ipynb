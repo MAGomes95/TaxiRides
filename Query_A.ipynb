{
 "cells": [
  {
   "cell_type": "markdown",
   "metadata": {},
   "source": [
    "## Imports"
   ]
  },
  {
   "cell_type": "code",
   "execution_count": null,
   "metadata": {},
   "outputs": [],
   "source": [
    "import datetime\n",
    "import builtins\n",
    "from functools import reduce\n",
    "from pyspark.sql import *\n",
    "from pyspark.sql.types import *\n",
    "from pyspark.sql.functions import *"
   ]
  },
  {
   "cell_type": "markdown",
   "metadata": {},
   "source": [
    "## Query A"
   ]
  },
  {
   "cell_type": "code",
   "execution_count": null,
   "metadata": {},
   "outputs": [],
   "source": [
    "spark = SparkSession.builder.master('local[*]').appName('routes').getOrCreate()\n",
    "sc = spark.sparkContext"
   ]
  },
  {
   "cell_type": "code",
   "execution_count": null,
   "metadata": {},
   "outputs": [],
   "source": [
    "FMT = '%Y-%m-%d %H:%M:%S'\n",
    "\n",
    "INITIAL_LATITUDE = 41.477182778\n",
    "INITIAL_LONGITUDE = -74.916578\n",
    "FINAL_LATITUDE = 40.129715978\n",
    "FINAL_LONGITUDE = -73.120778"
   ]
  },
  {
   "cell_type": "code",
   "execution_count": null,
   "metadata": {},
   "outputs": [],
   "source": [
    "def Trips_agg(listA, listB):\n",
    "    listA.extend(listB)\n",
    "    \n",
    "    return(listA)"
   ]
  },
  {
   "cell_type": "code",
   "execution_count": null,
   "metadata": {},
   "outputs": [],
   "source": [
    "def Max_trips(listA):\n",
    "    listA.sort(key = lambda x: x[4], reverse = True)\n",
    "    listA = listA[:10]\n",
    "    listA = list(map(lambda line: [line[0], line[1], line[2], line[3]], listA))\n",
    "    \n",
    "    return(listA)"
   ]
  },
  {
   "cell_type": "code",
   "execution_count": null,
   "metadata": {
    "scrolled": true
   },
   "outputs": [],
   "source": [
    "try:\n",
    "    lines = sc.textFile('sorted_data.csv')\n",
    "    lines = lines.map(lambda line: line.split(',')) \\\n",
    "                 .filter(lambda entry: (float(entry[6]) >= INITIAL_LONGITUDE and \\\n",
    "                                        float(entry[6]) <= FINAL_LONGITUDE and \\\n",
    "                                        float(entry[8]) >= INITIAL_LONGITUDE and \\\n",
    "                                        float(entry[8]) <= FINAL_LONGITUDE and \\\n",
    "                                        float(entry[7]) >= FINAL_LATITUDE and \\\n",
    "                                        float(entry[7]) <= INITIAL_LATITUDE and \\\n",
    "                                        float(entry[9]) >= FINAL_LATITUDE and \\\n",
    "                                        float(entry[9]) <= INITIAL_LATITUDE)) \\\n",
    "                 .map(lambda entry: [datetime.datetime.strptime(entry[2], FMT).hour, \\\n",
    "                                     datetime.datetime.strptime(entry[3], FMT).hour, \\\n",
    "                                     entry[4], \\\n",
    "                                     builtins.round(float(entry[7]),2), \\\n",
    "                                     builtins.round(float(entry[6]),2), \\\n",
    "                                     builtins.round(float(entry[9]),2), \\\n",
    "                                     builtins.round(float(entry[8]),2), \\\n",
    "                                     entry[11], \\\n",
    "                                     entry[14], \\\n",
    "                                     datetime.datetime.strptime(entry[2], FMT).strftime('%A'), \\\n",
    "                                     1])\n",
    "    \n",
    "    lines = lines.filter(lambda line: (line[2] != 0 and line[0] == line[1] and ((line[3] != line[5]) or (line[4] != line[6]))))\n",
    "    \n",
    "    lines = lines.map(lambda line: ((line[9], line[0], line[3], line[4], line[5], line[6]), line[10]))\n",
    "    lines = lines.reduceByKey(lambda trip_1, trip_2: trip_1 + trip_2)\n",
    "    \n",
    "    lines = lines.map(lambda line: ((line[0][0], line[0][1]), [(line[0][2], line[0][3], line[0][4], line[0][5], line[1])])) \n",
    "    lines = lines.reduceByKey(lambda trip_1, trip_2: Trips_agg(trip_1, trip_2))\n",
    "    \n",
    "    lines = lines.map(lambda line: [line[0][0], line[0][1], Max_trips(line[1])])\n",
    "    \n",
    "    for row in lines.collect():\n",
    "        print(row)\n",
    "\n",
    "    sc.stop()\n",
    "    \n",
    "except err:\n",
    "    print(err)\n",
    "    sc.stop()"
   ]
  }
 ],
 "metadata": {
  "kernelspec": {
   "display_name": "Python 3",
   "language": "python",
   "name": "python3"
  },
  "language_info": {
   "codemirror_mode": {
    "name": "ipython",
    "version": 3
   },
   "file_extension": ".py",
   "mimetype": "text/x-python",
   "name": "python",
   "nbconvert_exporter": "python",
   "pygments_lexer": "ipython3",
   "version": "3.6.3"
  }
 },
 "nbformat": 4,
 "nbformat_minor": 2
}
