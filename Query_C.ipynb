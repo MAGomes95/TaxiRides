{
 "cells": [
  {
   "cell_type": "markdown",
   "metadata": {},
   "source": [
    "## Imports"
   ]
  },
  {
   "cell_type": "code",
   "execution_count": null,
   "metadata": {},
   "outputs": [],
   "source": [
    "from pyspark.ml.feature import VectorAssembler\n",
    "from pyspark.ml.clustering import KMeans, KMeansModel\n",
    "from pyspark.ml.evaluation import ClusteringEvaluator\n",
    "from pyspark.sql.types import *\n",
    "from pyspark.sql import SparkSession\n",
    "import matplotlib.pyplot as plt"
   ]
  },
  {
   "cell_type": "markdown",
   "metadata": {},
   "source": [
    "## Query C"
   ]
  },
  {
   "cell_type": "code",
   "execution_count": null,
   "metadata": {},
   "outputs": [],
   "source": [
    "spark = SparkSession.builder.master('local[*]').appName('kmeans').getOrCreate()\n",
    "sc = spark.sparkContext"
   ]
  },
  {
   "cell_type": "code",
   "execution_count": null,
   "metadata": {},
   "outputs": [],
   "source": [
    "schema = StructType([StructField(\"medallion\", StringType(), True),\n",
    "                     StructField(\"hack_license\", StringType(), True),\n",
    "                     StructField(\"pickup_datetime\", TimestampType(), True),\n",
    "                     StructField(\"dropoff_datetime\", TimestampType(), True),\n",
    "                     StructField(\"trip_time_in_secs\", IntegerType(), True),\n",
    "                     StructField(\"trip_distance\", DecimalType(precision=10, scale=2), True),\n",
    "                     StructField(\"pickup_longitude\", DecimalType(precision=18, scale=14), True),\n",
    "                     StructField(\"pickup_latitude\", DecimalType(precision=18, scale=14), True),\n",
    "                     StructField(\"dropoff_longitude\", DecimalType(precision=18, scale=14), True),\n",
    "                     StructField(\"dropoff_latitude\", DecimalType(precision=18, scale=14), True),\n",
    "                     StructField(\"payment_type\", StringType(), True),\n",
    "                     StructField(\"fare_amount\", DecimalType(precision=10, scale=2), True),\n",
    "                     StructField(\"surcharge\", DecimalType(precision=10, scale=2), True),\n",
    "                     StructField(\"mta_tax\", DecimalType(precision=10, scale=2), True),\n",
    "                     StructField(\"tip_amount\", DecimalType(precision=10, scale=2), True),\n",
    "                     StructField(\"tolls_amount\", DecimalType(precision=10, scale=2), True),\n",
    "                     StructField(\"total_amount\", DecimalType(precision=10, scale=2), True)])"
   ]
  },
  {
   "cell_type": "code",
   "execution_count": null,
   "metadata": {},
   "outputs": [],
   "source": [
    "data = spark.read.csv(\"sorted_data.csv\", schema=schema)\n",
    "\n",
    "data = data.where(data.pickup_longitude >= -74.916578) \\\n",
    "           .where(data.pickup_longitude <= -73.120778) \\\n",
    "           .where(data.dropoff_longitude >= -74.916578) \\\n",
    "           .where(data.dropoff_longitude <= -73.120778) \\\n",
    "           .where(data.pickup_latitude >= 40.129715978) \\\n",
    "           .where(data.pickup_latitude <= 41.477182778) \\\n",
    "           .where(data.dropoff_latitude >= 40.129715978) \\\n",
    "           .where(data.dropoff_latitude <= 41.477182778) \\\n",
    "           .where(data.trip_time_in_secs > 0)\n",
    "\n",
    "assembler = VectorAssembler( \\\n",
    "    inputCols=[\"pickup_latitude\", \"pickup_longitude\"], \\\n",
    "    outputCol=\"features\")\n",
    "\n",
    "dataPrepared = assembler.transform(data)\n",
    "\n",
    "sse = {}\n",
    "silhouette = []\n",
    "\n",
    "for i in range(2,50):\n",
    "    kmeans = KMeans(k=i, seed=1)\n",
    "    clusters = kmeans.fit(dataPrepared)\n",
    "    cost = clusters.computeCost(dataPrepared)\n",
    "    sse[i] = cost\n",
    "    \n",
    "    kmeans_preds = kmeans.fit(dataPrepared).transform(dataPrepared)\n",
    "    sil = ClusteringEvaluator().evaluate(kmeans_preds)\n",
    "    silhouette.append(sil)\n",
    "    \n",
    "    print(str(i) + \" -> \" + str(cost))"
   ]
  },
  {
   "cell_type": "markdown",
   "metadata": {},
   "source": [
    "## Elbow Method"
   ]
  },
  {
   "cell_type": "code",
   "execution_count": null,
   "metadata": {},
   "outputs": [],
   "source": [
    "f = plt.figure(figsize=(10, 8))\n",
    "plt.title(\"K-Means: Elbow Method\", fontsize=14, fontweight=\"bold\")\n",
    "plt.plot(list(sse.keys()), list(sse.values()), '-o')\n",
    "plt.axvline(x=10, color=\"red\", linestyle=\"--\")\n",
    "plt.xlabel(\"Number of cluster\")\n",
    "plt.ylabel(\"SSE\")\n",
    "f.savefig(\"kmeans_elbow_method.png\", bbox_inches='tight', dpi=300)\n",
    "plt.show()"
   ]
  },
  {
   "cell_type": "markdown",
   "metadata": {},
   "source": [
    "## Silhouette Score"
   ]
  },
  {
   "cell_type": "code",
   "execution_count": null,
   "metadata": {},
   "outputs": [],
   "source": [
    "f = plt.figure(figsize=(10, 8))\n",
    "plt.title(\"K-Means: Silhouette Score\", fontsize=14, fontweight=\"bold\")\n",
    "plt.plot([i for i in range(2,50)], silhouette)\n",
    "plt.axvline(x=10, color=\"red\", linestyle=\"--\")\n",
    "plt.xlabel(\"Number of cluster\")\n",
    "plt.ylabel(\"Silhouette Score\")\n",
    "f.savefig(\"kmeans_sil.png\", bbox_inches='tight', dpi=300)\n",
    "plt.show()"
   ]
  },
  {
   "cell_type": "markdown",
   "metadata": {},
   "source": [
    "## Stands"
   ]
  },
  {
   "cell_type": "code",
   "execution_count": null,
   "metadata": {},
   "outputs": [],
   "source": [
    "kmeans = KMeans(k=10, seed=1)\n",
    "clusters = kmeans.fit(dataPrepared)\n",
    "cost = clusters.computeCost(dataPrepared)\n",
    "    \n",
    "print(\"Clusters centers = \" + str(clusters.clusterCenters()))"
   ]
  }
 ],
 "metadata": {
  "kernelspec": {
   "display_name": "Python 3",
   "language": "python",
   "name": "python3"
  },
  "language_info": {
   "codemirror_mode": {
    "name": "ipython",
    "version": 3
   },
   "file_extension": ".py",
   "mimetype": "text/x-python",
   "name": "python",
   "nbconvert_exporter": "python",
   "pygments_lexer": "ipython3",
   "version": "3.6.3"
  }
 },
 "nbformat": 4,
 "nbformat_minor": 2
}
